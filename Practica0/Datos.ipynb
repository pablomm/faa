{
 "cells": [
  {
   "cell_type": "code",
   "execution_count": 4,
   "metadata": {},
   "outputs": [],
   "source": [
    "# Importamos Librerias\n",
    "import numpy as np"
   ]
  },
  {
   "cell_type": "code",
   "execution_count": 54,
   "metadata": {},
   "outputs": [],
   "source": [
    "\"\"\"\n",
    "Clase para leer y almacenar los datos de los ficheros .data proporcionados\n",
    "\"\"\"\n",
    "\n",
    "class Datos(object):\n",
    "\n",
    "    TiposDeAtributos=('Continuo','Nominal')\n",
    "\n",
    "    def __init__(self, nombreFichero):\n",
    "        \n",
    "        # Abrimos el fichero y procesamos la cabecera\n",
    "        with open(nombreFichero) as f:\n",
    "            \n",
    "            # Guardamos el numero de datos\n",
    "            self.nDatos = int(f.readline())\n",
    "            \n",
    "            # Guardamos la lista de nombres de atributos\n",
    "            self.nombreAtributos = f.readline().replace('\\n','').split(\",\")\n",
    "            \n",
    "            # Guardamos la lista de atributos\n",
    "            self.tipoAtributos = f.readline().replace('\\n','').split(\",\")\n",
    "            \n",
    "            # Comprobacion atributos\n",
    "            if any(atr not in Datos.TiposDeAtributos for atr in self.tipoAtributos):\n",
    "                raise ValueError(\"Tipo de atributo erroneo\")\n",
    "                \n",
    "            # Guardamos True en las posiciones de atributos nominales\n",
    "            self.nominalAtributos = [atr == 'Nominal' for atr in self.tipoAtributos]\n",
    "            \n",
    "        # Leemos los datos de numpy en formate string para los datos nominales\n",
    "        datosNominales = np.genfromtxt(nombreFichero, dtype='S', skip_header=3, delimiter=',')\n",
    "            \n",
    "        # Inicializamos los diccionarios con los distintos valores de los atributos\n",
    "        self._inicializarDiccionarios(datosNominales)\n",
    "        \n",
    "        # Transformamos los datos nominales en datos numericos empleando los diccionarios\n",
    "        \n",
    "        \n",
    "    def _inicializarDiccionarios(self, datos):\n",
    "        \"\"\"Funcion interna para inicializar los diccionarios buscando todos\n",
    "            los valores que toman los atributos en la matriz de datos\"\"\"\n",
    "\n",
    "        self.diccionarios = []\n",
    "\n",
    "        for i, nominal in enumerate(self.nominalAtributos):\n",
    "\n",
    "            if not nominal: # Incluimos diccionarios vacios en los datos no nominales\n",
    "                self.diccionarios.append({})\n",
    "            else:\n",
    "                # Buscamos todos los valores distintos por atributo y creamos el diccionario\n",
    "                values = np.unique(datos[:,i])\n",
    "                values.sort()\n",
    "                self.diccionarios.append({k.decode('utf-8'): v for v, k in enumerate(values)})\n",
    "\n",
    "        \n",
    "\n",
    "     # TODO: implementar en la practica 1\n",
    "    def extraeDatos(self, idx):\n",
    "        pass"
   ]
  },
  {
   "cell_type": "code",
   "execution_count": 55,
   "metadata": {},
   "outputs": [],
   "source": [
    "\n",
    "if __name__ == '__main__':\n",
    "    #from Datos import Datos\n",
    "    dataset=Datos('../ConjuntosDatos/tic-tac-toe.data')\n"
   ]
  }
 ],
 "metadata": {
  "kernelspec": {
   "display_name": "Python 3",
   "language": "python",
   "name": "python3"
  },
  "language_info": {
   "codemirror_mode": {
    "name": "ipython",
    "version": 3
   },
   "file_extension": ".py",
   "mimetype": "text/x-python",
   "name": "python",
   "nbconvert_exporter": "python",
   "pygments_lexer": "ipython3",
   "version": "3.6.5"
  }
 },
 "nbformat": 4,
 "nbformat_minor": 2
}
