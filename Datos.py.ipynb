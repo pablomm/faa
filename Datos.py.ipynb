{
 "cells": [
  {
   "cell_type": "code",
   "execution_count": 24,
   "metadata": {
    "collapsed": true
   },
   "outputs": [],
   "source": [
    "import numpy as np\n",
    "\n"
   ]
  },
  {
   "cell_type": "code",
   "execution_count": 76,
   "metadata": {},
   "outputs": [],
   "source": [
    "class Datos(object):\n",
    "\n",
    " TiposDeAtributos=('Continuo','Nominal')\n",
    "\n",
    " def __init__(self, nombreFichero):\n",
    "        \n",
    "        # Abrimos el fichero y procesamos la cabecera\n",
    "        with open(nombreFichero) as f:\n",
    "            \n",
    "            # Guardamos el numero de datos\n",
    "            self.nDatos = int(f.readline())\n",
    "            \n",
    "            # Guardamos la lista de nombres de atributos\n",
    "            self.nombreAtributos = f.readline().replace('\\n','').split(\",\")\n",
    "            \n",
    "            # Guardamos la lista de atributos\n",
    "            self.tipoAtributos = f.readline().replace('\\n','').split(\",\")\n",
    "            \n",
    "            # Comprobacion atributos\n",
    "            if any(atr not in Datos.TiposDeAtributos for atr in self.tipoAtributos):\n",
    "                raise ValueError(\"Tipo de atributo erroneo\")\n",
    "                \n",
    "            # Guardamos True en las posiciones de atributos nominales\n",
    "            self.nominalAtributos = [True if atr == 'Nominal' else False for atr in self.tipoAtributos]\n",
    "            \n",
    "        # Leemos los datos de numpy     \n",
    "        self.datos = np.genfromtxt(nombreFichero, dtype='S', skip_header=3, delimiter=',')\n",
    "            \n",
    "        \n",
    "        # Buscamos en la matriz los posibles valores de cada atributo\n",
    "        self.diccionarios = []\n",
    "        \n",
    "        for i in range(len(self.nominalAtributos)):\n",
    "            if not self.nominalAtributos[i]:\n",
    "                self.diccionarios.append({})\n",
    "            else:\n",
    "                values = []\n",
    "                # Recorremos los atributos buscando diferentes valores\n",
    "                for v in self.datos[:,i]:\n",
    "                    if v not in values: values.append(v)\n",
    "                        \n",
    "                # Lista ordenada de valores del atributo\n",
    "                values.sort()\n",
    "                \n",
    "                #for j in range(len(values))\n",
    "                self.diccionarios.append({k.decode('utf-8'): v for v, k in enumerate(values)})\n",
    "                        \n",
    "        \n",
    "\n",
    " # TODO: implementar en la practica 1\n",
    " def extraeDatos(self, idx):\n",
    "     pass"
   ]
  },
  {
   "cell_type": "code",
   "execution_count": 77,
   "metadata": {},
   "outputs": [
    {
     "name": "stdout",
     "output_type": "stream",
     "text": [
      "[{'b': 0, 'o': 1, 'x': 2}, {'b': 0, 'o': 1, 'x': 2}, {'b': 0, 'o': 1, 'x': 2}, {'b': 0, 'o': 1, 'x': 2}, {'b': 0, 'o': 1, 'x': 2}, {'b': 0, 'o': 1, 'x': 2}, {'b': 0, 'o': 1, 'x': 2}, {'b': 0, 'o': 1, 'x': 2}, {'b': 0, 'o': 1, 'x': 2}, {'negative': 0, 'positive': 1}]\n"
     ]
    }
   ],
   "source": [
    "\n",
    "\n",
    "if __name__ == '__main__':\n",
    "    #from Datos import Datos\n",
    "    dataset=Datos('./ConjuntosDatos/tic-tac-toe.data')\n",
    "    \n",
    "    print(dataset.diccionarios)"
   ]
  }
 ],
 "metadata": {
  "kernelspec": {
   "display_name": "Python 3",
   "language": "python",
   "name": "python3"
  },
  "language_info": {
   "codemirror_mode": {
    "name": "ipython",
    "version": 3
   },
   "file_extension": ".py",
   "mimetype": "text/x-python",
   "name": "python",
   "nbconvert_exporter": "python",
   "pygments_lexer": "ipython3",
   "version": "3.6.3"
  }
 },
 "nbformat": 4,
 "nbformat_minor": 2
}
