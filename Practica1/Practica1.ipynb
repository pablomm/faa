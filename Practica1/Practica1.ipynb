{
 "cells": [
  {
   "cell_type": "code",
   "execution_count": 1,
   "metadata": {
    "collapsed": true
   },
   "outputs": [],
   "source": [
    "#!/usr/bin/python3\n",
    "# -*- coding: utf-8 -*-"
   ]
  },
  {
   "cell_type": "markdown",
   "metadata": {},
   "source": [
    "# Práctica 1 - Aprendizaje automático\n",
    "### Grupo 1463\n",
    "---------\n",
    "\n",
    "* Pablo Marcos Manchón\n",
    "* Dionisio Pérez Alvear"
   ]
  },
  {
   "cell_type": "code",
   "execution_count": 118,
   "metadata": {
    "collapsed": true
   },
   "outputs": [],
   "source": [
    "# Importamos Librerias\n",
    "import numpy as np\n",
    "import collections\n",
    "from abc import ABCMeta,abstractmethod\n",
    "from scipy.stats import norm\n",
    "\n",
    "import matplotlib.pyplot as plt\n",
    "\n",
    "#from sklearn import datasets\n",
    "import sklearn.naive_bayes as nb\n",
    "from sklearn.naive_bayes import GaussianNB\n",
    "from sklearn import preprocessing\n",
    "from sklearn.model_selection import train_test_split, cross_val_score, KFold, cross_val_predict"
   ]
  },
  {
   "cell_type": "markdown",
   "metadata": {},
   "source": [
    "Definición de la clase ***Datos*** implementada en la práctica 0.\n",
    "\n",
    "Hemos añadido unas pocas variaciones respecto al diseño original:\n",
    "* Al inicializar puede especificarse el tipo de datos con el que se guarda la matriz de datos (atributo cast).\n",
    "\n",
    "\n",
    "* Métodos `__len__` , `__getitem__` y `__yield__` sobrecargados para utilizar de forma mas cómoda la clase.\n",
    "\n",
    "\n",
    "* El método `extraeDatos` permite indexar por todos los tipos de indices que permite numpy, teniendo en cuenta\n",
    "  que la información se almacena en una matriz ***nDatos x nAtributos*** (contando el atributo correspondiente a la clase).\n",
    "\n",
    "El resto de atributos y funciones se encuentran documentados en el código."
   ]
  },
  {
   "cell_type": "code",
   "execution_count": 3,
   "metadata": {
    "collapsed": true
   },
   "outputs": [],
   "source": [
    "class Datos(object):\n",
    "    \"\"\"Clase para leer y almacenar los datos de los ficheros .data proporcionados\n",
    "\n",
    "    Attributes:\n",
    "        ndatos (int): Numero de entradas de nuestro conjunto de datos\n",
    "        nAtributos (int): Numero de atributos de cada dato\n",
    "        nombreAtributos (list): Lista con los nombres de los atributos\n",
    "        tipoAtributos (list): Lista con string representando el tipo de cada atributo\n",
    "        nominalAtributos (list): Lista con True en las posiciones de los atributos nominales\n",
    "        diccionarios (list): Lista de diccionarios con el valor de cada uno de los atributos nominales\n",
    "        datos (numpy.ndarray) : Matrix ndatosxnAtributos con los datos recolectados y los atributos\n",
    "            nominales traducidos.\n",
    "    \"\"\"\n",
    "\n",
    "    TiposDeAtributos=('Continuo','Nominal')\n",
    "\n",
    "    def __init__(self, nombreFichero, cast=None):\n",
    "        \"\"\"Constructor de la clase Datos\n",
    "\n",
    "        Args:\n",
    "            nombreFichero (str): path del fichero de datos a cargar\n",
    "            cast (np.dtype, opcional) : Si se especifica la matriz de datos se\n",
    "                casteara al tipo especificado, en otro caso si todos los atributos\n",
    "                son nominales se almacenaran en tipo entero y si hay algun dato\n",
    "                continuo en tipo float.\n",
    "        \"\"\"\n",
    "\n",
    "        # Abrimos el fichero y procesamos la cabecera\n",
    "        with open(nombreFichero) as f:\n",
    "\n",
    "            # Guardamos el numero de datos\n",
    "            self.nDatos = int(f.readline())\n",
    "\n",
    "            # Guardamos la lista de nombres de atributos\n",
    "            self.nombreAtributos = f.readline().replace('\\n','').split(\",\")\n",
    "\n",
    "            # Guardamos la lista de atributos\n",
    "            self.tipoAtributos = f.readline().replace('\\n','').split(\",\")\n",
    "\n",
    "            # Numero de atributos\n",
    "            self.nAtributos = len(self.tipoAtributos)\n",
    "\n",
    "            # Comprobacion atributos\n",
    "            if any(atr not in Datos.TiposDeAtributos for atr in self.tipoAtributos):\n",
    "                raise ValueError(\"Tipo de atributo erroneo\")\n",
    "\n",
    "            # Guardamos True en las posiciones de atributos nominales\n",
    "            self.nominalAtributos = [atr == 'Nominal' for atr in self.tipoAtributos]\n",
    "\n",
    "        # Leemos los datos de numpy en formate string para los datos nominales\n",
    "        datosNominales = np.genfromtxt(nombreFichero, dtype='S', skip_header=3, delimiter=',')\n",
    "\n",
    "        # Inicializamos los diccionarios con los distintos valores de los atributos\n",
    "        self._inicializarDiccionarios(datosNominales)\n",
    "\n",
    "        # Transformamos los datos nominales en datos numericos empleando los diccionarios\n",
    "        for i, nominal in enumerate(self.nominalAtributos):\n",
    "            if nominal:\n",
    "                datosNominales[:,i] = np.vectorize(self.diccionarios[i].get)(datosNominales[:,i])\n",
    "\n",
    "        # Convertimos la matriz a tipo numerico, en caso de no especificarse\n",
    "        # Si todos los atributos son nominales usamos el tipo np.int para ahorrar espacio\n",
    "        # Si hay datos continuos lo guardamos en tipo np.float\n",
    "        if cast == None: cast = np.int if all(self.nominalAtributos) else np.float\n",
    "        self.datos = datosNominales.astype(cast)\n",
    "\n",
    "        # Convertimos los nombres nominales a string en vez de dejarlos en bytes\n",
    "        diccionarios_aux = []\n",
    "        for d in self.diccionarios:\n",
    "            aux = {}\n",
    "            for k in d: aux[k.decode('utf-8')] = d[k]\n",
    "            diccionarios_aux.append(aux)\n",
    "\n",
    "        self.diccionarios = diccionarios_aux\n",
    "\n",
    "    def _inicializarDiccionarios(self, datos):\n",
    "        \"\"\"Funcion interna para inicializar los diccionarios buscando todos\n",
    "            los valores que toman los atributos en la matriz de datos\"\"\"\n",
    "\n",
    "        self.diccionarios = []\n",
    "\n",
    "        for i, nominal in enumerate(self.nominalAtributos):\n",
    "\n",
    "            if not nominal: # Incluimos diccionarios vacios en los datos no nominales\n",
    "                self.diccionarios.append({})\n",
    "            else:\n",
    "                # Buscamos todos los valores distintos por atributo y creamos el diccionario\n",
    "                values = np.unique(datos[:,i])\n",
    "                values.sort()\n",
    "                self.diccionarios.append({k: v for v, k in enumerate(values)})\n",
    "\n",
    "    def extraeDatos(self, idx):\n",
    "        return self.datos[idx]\n",
    "    \n",
    "    def __getitem__(self, idx):\n",
    "        return self.extraeDatos(idx)\n",
    "    \n",
    "    def __len__(self):\n",
    "        return self.nDatos\n",
    "    \n",
    "    def __yield__(self):\n",
    "        for i in range(len(self)):\n",
    "            yield self.datos[i]\n",
    "\n",
    "    "
   ]
  },
  {
   "cell_type": "markdown",
   "metadata": {},
   "source": [
    "***Ejemplo***\n",
    "\n",
    "Cargamos el dataset balloons el cual se encuentra en la carpeta `../ConjuntosDatos` e imprimimos los datos cargados.\n"
   ]
  },
  {
   "cell_type": "code",
   "execution_count": 4,
   "metadata": {},
   "outputs": [
    {
     "name": "stdout",
     "output_type": "stream",
     "text": [
      "[[1 1 1 0 1]\n",
      " [1 1 1 0 1]\n",
      " [1 1 1 1 0]\n",
      " [1 1 0 0 0]\n",
      " [1 1 0 1 0]\n",
      " [1 0 1 0 1]\n",
      " [1 0 1 0 1]\n",
      " [1 0 1 1 0]\n",
      " [1 0 0 0 0]\n",
      " [1 0 0 1 0]\n",
      " [0 1 1 0 1]\n",
      " [0 1 1 0 1]\n",
      " [0 1 1 1 0]\n",
      " [0 1 0 0 0]\n",
      " [0 1 0 1 0]\n",
      " [0 0 1 0 1]\n",
      " [0 0 1 0 1]\n",
      " [0 0 1 1 0]\n",
      " [0 0 0 0 0]\n",
      " [0 0 0 1 0]]\n"
     ]
    }
   ],
   "source": [
    "dataset = Datos('../ConjuntosDatos/balloons.data')\n",
    "\n",
    "print(dataset.datos)"
   ]
  },
  {
   "cell_type": "markdown",
   "metadata": {},
   "source": [
    "### Apartado 1 - Estrategias de particionado\n",
    "------\n",
    "\n",
    "Existen dos clases relativos a las estrategias de particionado:\n",
    "* Particion: Contiene dos atributos, ***indicesTrain*** correspondientes a los indices de entrenamiento e ***indicesTest*** con los indices de Test de una partición. Para inicializar una partición es suficiente con pasar las dos listas con los indices.\n",
    "\n",
    "\n",
    "* EstrategiaParticionado: Clase abstracta para las estrategias de particionado, contienen 3 atributos todas las estrategias, ***nombreEstrategia*** con un nombre para imprimir la estrategia, ***numeroParticiones*** y ***partitiones*** una lista con las particiones. Se han sobreargado los métodos `__call__` (para llamar más comodamente a creaParticiones) y `__iter__` (para iterar sobre la lista de particiones de forma transparente). "
   ]
  },
  {
   "cell_type": "code",
   "execution_count": 5,
   "metadata": {
    "collapsed": true
   },
   "outputs": [],
   "source": [
    "class Particion:\n",
    "  \n",
    "    def __init__(self, train=[], test=[], name=\"\"):\n",
    "        self.indicesTrain= train\n",
    "        self.indicesTest= test\n",
    "        self.name = name\n",
    "    \n",
    "    def __str__(self):\n",
    "        return \"Particion {}:\\nTrain: {}\\nTest:  {}\".format(self.name, \n",
    "                                                            str(self.indicesTrain),\n",
    "                                                            str(self.indicesTest)) \n",
    "    \n",
    "class EstrategiaParticionado:\n",
    "  \n",
    "      # Clase abstracta\n",
    "    __metaclass__ = ABCMeta\n",
    "  \n",
    "    def __init__(self, nombre=\"null\"):\n",
    "        self.nombreEstrategia=nombre\n",
    "        self.numeroParticiones=0\n",
    "        self.particiones=[]\n",
    "        \n",
    "    def __str__(self):\n",
    "        return self.nombreEstrategia\n",
    "    \n",
    "    def __call__(self, datos):\n",
    "        return self.creaParticiones(datos)\n",
    "    \n",
    "    def __iter__(self):\n",
    "        for part in self.particiones:\n",
    "            yield part\n",
    "  \n",
    "    @abstractmethod\n",
    "    # TODO: esta funcion deben ser implementadas en cada estrategia concreta  \n",
    "    def creaParticiones(self,datos,seed=None):\n",
    "        pass"
   ]
  },
  {
   "cell_type": "markdown",
   "metadata": {},
   "source": [
    "### Validación Simple\n",
    "\n",
    "Implementación de la estrategia de particionado de validación simple.\n",
    "Esta estrategia crea una partición, en la cual separa en dos conjuntos disjuntos los datos.\n",
    "Al inicializar se debe indicar el porcentaje de datos a utilizar como entrenamiento, por defecto se usa el 75%.\n",
    "\n",
    "Es la más sencilla y menos costosa de implementar y ejecutar."
   ]
  },
  {
   "cell_type": "code",
   "execution_count": 6,
   "metadata": {
    "collapsed": true
   },
   "outputs": [],
   "source": [
    "class ValidacionSimple(EstrategiaParticionado):\n",
    "    \"\"\"Crea particiones segun el metodo tradicional \n",
    "    de division de los datos segun el porcentaje deseado.\"\"\"\n",
    "    \n",
    "    def __init__(self,porcentaje=.75):\n",
    "\n",
    "        self.porcentaje = porcentaje\n",
    "        super().__init__(\"Validacion Simple con {}% de entrenamiento\".format(100*porcentaje))\n",
    "\n",
    "\n",
    "    def creaParticiones(self, datos, seed=None):    \n",
    "        np.random.seed(seed)\n",
    "\n",
    "        self.numeroParticiones = 1\n",
    "\n",
    "        # Generamos una permutacion de los indices\n",
    "        indices = np.arange(datos.nDatos)\n",
    "        np.random.shuffle(indices)\n",
    "\n",
    "        # Separamos en base al porcentaje necesario\n",
    "        l = int(datos.nDatos*self.porcentaje)\n",
    "        self.particiones = [Particion(indices[:l], indices[l:], \"simple\")]\n",
    "\n",
    "        return self.particiones"
   ]
  },
  {
   "cell_type": "markdown",
   "metadata": {},
   "source": [
    "Por ejemplo para inicializar una estrategia de particionado con un 80% de datos de entrenamiento:"
   ]
  },
  {
   "cell_type": "code",
   "execution_count": 7,
   "metadata": {},
   "outputs": [
    {
     "name": "stdout",
     "output_type": "stream",
     "text": [
      "Validacion Simple con 80.0% de entrenamiento\n",
      "Particion simple:\n",
      "Train: [18  5 14  7 17  3 12  8 11 13 16 19  9  6  1  2]\n",
      "Test:  [ 4  0 15 10]\n"
     ]
    }
   ],
   "source": [
    "# Creamos una particion con validacion simple\n",
    "validacion_simple = ValidacionSimple(0.8)\n",
    "particion = validacion_simple(dataset)\n",
    "\n",
    "# Imprimimos la particion creada (elemento 0 de la lista)\n",
    "print(validacion_simple)\n",
    "print(particion[0])"
   ]
  },
  {
   "cell_type": "markdown",
   "metadata": {},
   "source": [
    "### Validación Cruzada\n",
    "\n",
    "Implementación de la estrategia de particionado de validación cruzada. Es necesario indicar el número de particiones a crear. Se crearán k bloques y se excluirá uno de ellos en cada partición de los datos de entrenamiento y se utilizará para test.\n",
    "\n",
    "Es más robusta que la validación simple."
   ]
  },
  {
   "cell_type": "code",
   "execution_count": 8,
   "metadata": {
    "collapsed": true
   },
   "outputs": [],
   "source": [
    "class ValidacionCruzada(EstrategiaParticionado):\n",
    "    \n",
    "    def __init__(self, k=1):\n",
    "        self.k = k\n",
    "        super().__init__(\"Validacion Cruzada con {} particiones\".format(k))\n",
    "  \n",
    "  # Crea particiones segun el metodo de validacion cruzada.\n",
    "  # El conjunto de entrenamiento se crea con las nfolds-1 particiones\n",
    "  # y el de test con la particion restante\n",
    "  # Esta funcion devuelve una lista de particiones (clase Particion)\n",
    "    def creaParticiones(self,datos,seed=None):   \n",
    "        np.random.seed(seed)\n",
    "        \n",
    "        self.numeroParticiones = self.k\n",
    "        # Tam de cada bloque\n",
    "        l = int(datos.nDatos/self.k)\n",
    "        \n",
    "        # Generamos una permutacion de los indices\n",
    "        indices = np.arange(datos.nDatos)\n",
    "        np.random.shuffle(indices)\n",
    "        self.particiones = []\n",
    "        \n",
    "        \n",
    "        for i in range(self.k):\n",
    "\n",
    "            train = np.delete(indices, range(i*l,(i+1)*l))\n",
    "            test =  indices[i*l:(i+1)*l-1]\n",
    "            self.particiones.append(Particion(train, test, i + 1))\n",
    "                                    \n",
    "        return self.particiones"
   ]
  },
  {
   "cell_type": "markdown",
   "metadata": {},
   "source": [
    "***Ejemplo***\n",
    "\n",
    "Creamos una particion cruzada con 4 bloques."
   ]
  },
  {
   "cell_type": "code",
   "execution_count": 9,
   "metadata": {},
   "outputs": [
    {
     "name": "stdout",
     "output_type": "stream",
     "text": [
      "Validacion Cruzada con 4 particiones\n",
      "Particion 1:\n",
      "Train: [ 0 12  8  9 14 10  5 13  3 11 15 16  1 19  7]\n",
      "Test:  [ 2 17  6 18]\n",
      "Particion 2:\n",
      "Train: [ 2 17  6 18  4 10  5 13  3 11 15 16  1 19  7]\n",
      "Test:  [ 0 12  8  9]\n",
      "Particion 3:\n",
      "Train: [ 2 17  6 18  4  0 12  8  9 14 15 16  1 19  7]\n",
      "Test:  [10  5 13  3]\n",
      "Particion 4:\n",
      "Train: [ 2 17  6 18  4  0 12  8  9 14 10  5 13  3 11]\n",
      "Test:  [15 16  1 19]\n"
     ]
    }
   ],
   "source": [
    "k=4\n",
    "validacion_cruzada = ValidacionCruzada(k)\n",
    "validacion_cruzada(dataset)\n",
    "\n",
    "print(validacion_cruzada)\n",
    "\n",
    "# Imprimos las particiones\n",
    "for particion in validacion_cruzada:\n",
    "    print(particion)"
   ]
  },
  {
   "cell_type": "markdown",
   "metadata": {},
   "source": [
    "### Validacion Bootstrap\n",
    "\n",
    "Genera particiones de acuerdo a la validación bootstrap.\n",
    "Es necesario especificar el numero de particiones a la hora de instanciar la clase. Para cada partición se genera una lista tomando índices con repetición del conjunto de datos hasta obtener tantos ejemplares como elementos totales hay. Los que no han sido seleccionados ingresan al conjunto de test, esto se repite tantas veces como particiones se hayan especificado.\n",
    "\n",
    "Entre sus ventajas se encuentra el que es más robusta como estrategia de validación, y que es la que más se acerca a un modelo real por el hecho de permitir la repetición de los datos y no estar condicionando de está manera los conjuntos de train y test."
   ]
  },
  {
   "cell_type": "code",
   "execution_count": 10,
   "metadata": {
    "collapsed": true
   },
   "outputs": [],
   "source": [
    "class ValidacionBootstrap(EstrategiaParticionado):\n",
    "    \n",
    "    def __init__(self, n):\n",
    "        super().__init__(\"Validacion Bootstrap con {} particiones\".format(n))\n",
    "        self.n = n\n",
    "\n",
    "  # Crea particiones segun el metodo de boostrap\n",
    "  # Devuelve una lista de particiones (clase Particion)\n",
    "    def creaParticiones(self,datos,seed=None):    \n",
    "        np.random.seed(seed)\n",
    "\n",
    "        self.numeroParticiones = self.n\n",
    "\n",
    "        # Generamos una permutacion de los indices\n",
    "        indices = np.arange(datos.nDatos)\n",
    "        self.particiones = []\n",
    "\n",
    "        for i in range(self.n):\n",
    "\n",
    "            # Generamos numeros aleatorios con repeticion\n",
    "            aleatorios = np.random.randint(0, datos.nDatos, datos.nDatos)\n",
    "            # Nos quedamos los ejemplos de los indices\n",
    "            train = indices[aleatorios]\n",
    "            # Obtenemos los indices que han sido excluidos\n",
    "            excluidos = [i not in aleatorios for i in indices] \n",
    "            \n",
    "            # El conjunto de indices esta formado por los indices excluidos\n",
    "            test = indices[excluidos]\n",
    "\n",
    "            self.particiones.append(Particion(train, test, i+1))\n",
    "\n",
    "        return self.particiones"
   ]
  },
  {
   "cell_type": "markdown",
   "metadata": {},
   "source": [
    "***Ejemplo***\n",
    "\n",
    "Generamos 3 particiones de acuerdo a la estrategia bootstrap"
   ]
  },
  {
   "cell_type": "code",
   "execution_count": 11,
   "metadata": {},
   "outputs": [
    {
     "name": "stdout",
     "output_type": "stream",
     "text": [
      "Validacion Bootstrap con 3 particiones\n",
      "Particion 1:\n",
      "Train: [ 6  1  7 17 10  0  3 16  7  7  7 15 16 19 18  1 12 17 17 12]\n",
      "Test:  [ 2  4  5  8  9 11 13 14]\n",
      "Particion 2:\n",
      "Train: [ 9  1 14  2 17  6 17 10 13 11 14  3  8 11  4 16 11 17  0  6]\n",
      "Test:  [ 5  7 12 15 18 19]\n",
      "Particion 3:\n",
      "Train: [ 2  4 12 12  3  6 10  3  7 10  3 11  2 12  1  9 14  1  6 18]\n",
      "Test:  [ 0  5  8 13 15 16 17 19]\n"
     ]
    }
   ],
   "source": [
    "n=3\n",
    "validacion_bootstrap = ValidacionBootstrap(n)\n",
    "validacion_bootstrap(dataset)\n",
    "\n",
    "print(validacion_bootstrap)\n",
    "\n",
    "# Imprimos las particiones\n",
    "for particion in validacion_bootstrap:\n",
    "    print(particion)"
   ]
  },
  {
   "cell_type": "markdown",
   "metadata": {},
   "source": [
    "Probamos también las estrategias de particionado para el conjunto de datos ***tic-tac-toe*** (No imprimimos las particiones debido al tamaño de estas):"
   ]
  },
  {
   "cell_type": "code",
   "execution_count": 12,
   "metadata": {},
   "outputs": [
    {
     "name": "stdout",
     "output_type": "stream",
     "text": [
      "Validacion Simple con 80.0% de entrenamiento\n",
      "Validacion Cruzada con 4 particiones\n",
      "Validacion Bootstrap con 3 particiones\n"
     ]
    }
   ],
   "source": [
    "dataset_tic_tac_toe = Datos(\"../ConjuntosDatos/tic-tac-toe.data\")\n",
    "\n",
    "# Creamos una particion con validacion simple\n",
    "validacion_simple = ValidacionSimple(0.8)\n",
    "particion = validacion_simple(dataset_tic_tac_toe)\n",
    "\n",
    "# Imprimimos la particion creada (elemento 0 de la lista)\n",
    "print(validacion_simple)\n",
    "#print(particion[0])\n",
    "\n",
    "k=4\n",
    "validacion_cruzada = ValidacionCruzada(k)\n",
    "validacion_cruzada(dataset_tic_tac_toe)\n",
    "\n",
    "print(validacion_cruzada)\n",
    "\n",
    "# Imprimos las particiones\n",
    "#for particion in validacion_cruzada:\n",
    "#    print(particion)\n",
    "    \n",
    "n=3\n",
    "validacion_bootstrap = ValidacionBootstrap(n)\n",
    "validacion_bootstrap(dataset_tic_tac_toe)\n",
    "\n",
    "print(validacion_bootstrap)\n",
    "\n",
    "# Imprimos las particiones\n",
    "#for particion in validacion_bootstrap:\n",
    "#    print(particion)\n",
    "\n"
   ]
  },
  {
   "cell_type": "markdown",
   "metadata": {},
   "source": [
    "### Apartado 2 - Naive Bayes\n",
    "\n",
    "Clase abstracta para los clasificadores, hemos cambiado ligeramente el diseño original:\n",
    "\n",
    "* El método `entrenamiento` recibe dos argumentos, una instancia de la clase `Datos` con el dataset cargado e `indices`, una lista con los índices de entrenamiento o en su defecto se utilizan todos los datos.\n",
    "\n",
    "* El método `clasifica` recibe dos argumentos, una instancia de la clase `Datos` con el dataset cargado e `indices`, una lista con los índices a clasificar o en su defecto se utilizan todos los datos.\n",
    "\n"
   ]
  },
  {
   "cell_type": "code",
   "execution_count": 13,
   "metadata": {
    "collapsed": true
   },
   "outputs": [],
   "source": [
    "class Clasificador:\n",
    "  \n",
    "    # Clase abstracta\n",
    "    __metaclass__ = ABCMeta\n",
    "\n",
    "    # Metodos abstractos que se implementan en casa clasificador concreto\n",
    "    @abstractmethod\n",
    "    def entrenamiento(self, datos, indices=None):\n",
    "        r\"\"\"Entrena el clasificador.\n",
    "        \n",
    "            Args: \n",
    "                datos (Datos): dataset con los datos para el entrenamiento.\n",
    "                indices (array_like, optional): Indices de entrenamiento, si no se \n",
    "                    especifica se utilizaran todos los datos.\n",
    "        \"\"\"\n",
    "        pass\n",
    "\n",
    "\n",
    "    @abstractmethod\n",
    "    def clasifica(self, datos, indices=None):\n",
    "        r\"\"\"Entrena el clasificador.\n",
    "        \n",
    "            Args: \n",
    "                datos (Datos): dataset con los datos para el entrenamiento.\n",
    "                indices (array_like, optional): Indices a clasificar, si no se \n",
    "                    especifica se utilizaran todos los datos.\n",
    "                    \n",
    "            Returns:\n",
    "                numpy.array con las clase predecida de cada dato.\n",
    "        \"\"\"\n",
    "        pass\n",
    "\n",
    "    @staticmethod\n",
    "    def error(datos, pred, indices=None):\n",
    "        r\"\"\" Calcula el porcentaje de error de la prediccion\n",
    "            \n",
    "            Args: \n",
    "              datos (Datos): dataset con los datos.\n",
    "              pred (array_like): Lista con las clases predecidas\n",
    "              indices(array_like, opcional): Lista de indices usado para la clasificacion\n",
    "        \n",
    "        \"\"\"\n",
    "        # Obtenemos clases reales de los datos\n",
    "        if indices is not None:\n",
    "            clases = datos[indices][:,-1]\n",
    "        else:\n",
    "            clases = datos[:,-1]\n",
    "            \n",
    "        \n",
    "        return 1 - np.sum(np.equal(pred, clases))/len(pred)\n",
    "\n",
    "    @staticmethod\n",
    "    def validacion(particionado, dataset, clasificador, seed=None):\n",
    "        r\"\"\"Metodo para realizar validacion de un clasificador.\n",
    "        \n",
    "            Args: \n",
    "                particionado (EstrategiaParticion): Instancia de estrategia de particionado.\n",
    "                dataset (Datos): Dataset con los datos.\n",
    "                clasificador (Clasificador): Instancia de la clase clasificador.\n",
    "                seed (numeric, optional): Semilla opcional para reproducir resultados.\n",
    "        \"\"\"\n",
    "        \n",
    "        # Semilla opcional\n",
    "        np.random.seed(seed)\n",
    "        \n",
    "        # Creamos las particiones\n",
    "        particiones = particionado(dataset)\n",
    "        \n",
    "        errores = np.empty(len(particiones))\n",
    "        \n",
    "        # Calculamos los errores para cada particion\n",
    "        for i, particion in enumerate(particiones):\n",
    "            \n",
    "            clasificador.entrenamiento(dataset, particion.indicesTrain)\n",
    "            pred = clasificador.clasifica(dataset, particion.indicesTest)\n",
    "            errores[i] = Clasificador.error(dataset, pred, particion.indicesTest)\n",
    "            \n",
    "        return errores"
   ]
  },
  {
   "cell_type": "markdown",
   "metadata": {},
   "source": [
    "***Clasificador NaiveBayes***\n",
    "\n",
    "* Opcionalmente al instanciarlo recibe como parámetro si se debe aplicar normalización de Laplace.\n",
    "* Al instanciarlo almacena una tabla con las probabilidades a priori, además para cada atributo discreto genera una tabla con las probabilidades a posteriori y para cada atributo continuo guarda la media y desviación de cada una de las clases.\n",
    "* Posee el método `probabilidadClase` el cual dado un dato devuelve un array con las probabilidades a posteriori de cada clase."
   ]
  },
  {
   "cell_type": "code",
   "execution_count": 14,
   "metadata": {
    "collapsed": true
   },
   "outputs": [],
   "source": [
    "class ClasificadorNaiveBayes(Clasificador):\n",
    "\n",
    "    def __init__(self, laplace=False):\n",
    "        \n",
    "        # Normalizacion de laplace\n",
    "        self.laplace = laplace\n",
    "        \n",
    "        super().__init__()\n",
    "\n",
    "    def entrenamiento(self, datos, indices=None): \n",
    "        \n",
    "        if indices is None:\n",
    "            indices = range(len(datos))\n",
    "\n",
    "        # Numero de atributos\n",
    "        self.nAtributos = len(datos.diccionarios) - 1\n",
    "  \n",
    "        # Numero de clases (longitud del diccionario del campo clase)\n",
    "        self.nClases = len(datos.diccionarios[-1])\n",
    "        \n",
    "        \n",
    "        # Guardamos que atributos son nominales\n",
    "        self.nominalAtributos = datos.nominalAtributos\n",
    "        \n",
    "        # Variables necesarias para el entrenamiento\n",
    "        # (No se guaran en la estructura)\n",
    "        nEntrenamiento = len(indices)\n",
    "        datosEntrenamiento = datos[indices]\n",
    "        arrayClases = datosEntrenamiento[:,-1]\n",
    "\n",
    "        # Tablas de probabilidad a priori (una por clase)\n",
    "        self.priori = self._calcula_prioris(arrayClases)\n",
    "        \n",
    "        \n",
    "        # Tablas de probabilidad a posteriori (una por atributo)\n",
    "        self.posteriori = np.empty(self.nAtributos, dtype=object)\n",
    "               \n",
    "        # Iteramos sobre los datos de entrenamiento (sin contar la clase)\n",
    "        for i, discreto in enumerate(datos.nominalAtributos[:-1]):\n",
    "            \n",
    "            # Caso atributo discreto\n",
    "            if discreto:\n",
    "                # Numero de valores que toma el atributo\n",
    "                n_valores = len(datos.diccionarios[i])\n",
    "                \n",
    "                # Creamos la tabla de probabilidades a posteriori donde\n",
    "                # el elemento (i,j) guardara P(C_i | X=j)\n",
    "                self.posteriori[i] = self._entrena_discreto(datosEntrenamiento[:,i], \n",
    "                                                            arrayClases, \n",
    "                                                            n_valores)\n",
    "                \n",
    "            else:\n",
    "               # Creamos una tabla que guardara la media y desviacion del dato\n",
    "                self.posteriori[i] = self._entrena_continuo(datosEntrenamiento[:,i], \n",
    "                                                            arrayClases)              \n",
    "\n",
    "                \n",
    "    def _calcula_prioris(self, clases):\n",
    "        r\"\"\"Calcula la tabla de probabilidades a priori\n",
    "        \n",
    "            Args:\n",
    "                clases: array con clases\n",
    "            Returns:\n",
    "                array con probabilidades a posteriori\n",
    "        \"\"\"\n",
    "        \n",
    "        # Lista para prioris\n",
    "        prioris = np.empty(self.nClases)\n",
    "        n_entrenamiento = len(clases)\n",
    "        \n",
    "        # Calcuamos las probabilidades a priori\n",
    "        for c in range(self.nClases):\n",
    "            prioris[c] = len(np.where(clases == c)[0])/ n_entrenamiento\n",
    "        \n",
    "        \n",
    "        return prioris\n",
    "        \n",
    "    def _entrena_discreto(self, datos, clases, n_valores):\n",
    "        r\"\"\"Funcion para calcular la tabla de probabilidad a \n",
    "        posteriori de un atributo\n",
    "        \n",
    "        Args: \n",
    "            datos: Array unidimensional con valores del atributo\n",
    "            clases: Array con valores de la clase para cada atributo\n",
    "            n_valores: Numero de valores que puede tomar el atributo\n",
    "        \n",
    "        Returns:\n",
    "            numpy.array con la tabla de probabilidades a posteriori\n",
    "        \"\"\"\n",
    "        \n",
    "        # Tabla de probabilidades a posteriori\n",
    "        posteriori = np.zeros((self.nClases, n_valores))\n",
    "        \n",
    "        # Calculamos los conteos de atributos de cada clase      \n",
    "        for c in range(self.nClases):\n",
    "            \n",
    "            # Repeticiones de la clase c por valor\n",
    "            repeticiones = collections.Counter(datos[clases == c])\n",
    "\n",
    "            for v in repeticiones:\n",
    "                posteriori[c,int(v)] = repeticiones[v]\n",
    "            \n",
    "        # Comprueba si hay que hacer correccion de laplace\n",
    "        if self.laplace and (posteriori == 0).any():\n",
    "            posteriori += 1\n",
    "\n",
    "            \n",
    "        # Dividimos entre el numero de datos para obtener las probabilidades\n",
    "        for i in range(self.nClases):\n",
    "            posteriori[i] /= sum(posteriori[i])\n",
    "                \n",
    "        return posteriori\n",
    "                \n",
    "    def _entrena_continuo(self, datos, clases):\n",
    "        r\"\"\"Funcion para calcular los datos de un atributo\n",
    "            continuo, guardara para cada una de las clases\n",
    "            su media y desviacion estandart\n",
    "        \"\"\"\n",
    "        # Tabla con los datos para cada una de las clases\n",
    "        estadisticas = np.empty((self.nClases, 2))\n",
    "        \n",
    "        for c in range(self.nClases):\n",
    "            data = datos[clases == c]\n",
    "            estadisticas[c,0] = np.mean(data)\n",
    "            estadisticas[c,1] = np.std(data)\n",
    "            \n",
    "        return estadisticas\n",
    "            \n",
    "    def probabilidadClase(self, dato):\n",
    "\n",
    "        # Inicializamos la lista con las probabilidades a priori\n",
    "        probabilidades = np.copy(self.priori)\n",
    "        \n",
    "        for c in range(self.nClases):\n",
    "            for atr, nominal in enumerate(self.nominalAtributos[:-1]): \n",
    "                if nominal:\n",
    "                    # Atributo discreto\n",
    "                    probabilidades[c] *= self.posteriori[atr][c, int(dato[atr])]\n",
    "                else:\n",
    "                    # Atributo continuo\n",
    "                    probabilidades[c] *= norm.pdf(dato[atr], \n",
    "                                                  self.posteriori[atr][c, 0], \n",
    "                                                  self.posteriori[atr][c, 1])\n",
    "            \n",
    "        # Normalizamos las probabilidades\n",
    "        probabilidades /= np.sum(probabilidades)\n",
    "            \n",
    "        return probabilidades\n",
    "\n",
    "            \n",
    "\n",
    "    def clasifica(self, datos, indices=None):\n",
    "        r\"\"\" Clasifica los datos una vez entrenado el clasificador\n",
    "            Args:\n",
    "                datos: Clase Datos con los datos cargados\n",
    "                indices: Lista con indices de datos a clasificar\n",
    "        \n",
    "        \"\"\"\n",
    "        if indices is None:\n",
    "            indices = range(len(datos))\n",
    "        \n",
    "        clasificacion = np.full(len(indices), -1)\n",
    "        \n",
    "        for i, dato in enumerate(datos[indices]):\n",
    "                \n",
    "            probabilidades = self.probabilidadClase(dato)\n",
    "            clasificacion[i] = np.argmax(probabilidades)\n",
    "\n",
    "             \n",
    "        return clasificacion"
   ]
  },
  {
   "cell_type": "markdown",
   "metadata": {},
   "source": [
    "*** Prueba del clasificador Naive Bayes***\n",
    "\n",
    "En primer lugar, para ver que hemos implementado correctamente el clasificador probaremos a entrenar un clasificador Naive-Bayes con ***todos*** los datos de ***balloons*** y a continación veremos si clasifica correctamente todos los casos."
   ]
  },
  {
   "cell_type": "code",
   "execution_count": 15,
   "metadata": {},
   "outputs": [
    {
     "name": "stdout",
     "output_type": "stream",
     "text": [
      "[1 1 0 0 0 1 1 0 0 0 1 1 0 0 0 1 1 0 0 0]\n",
      "Tasa error 0.0\n",
      "[1 1 0 0 0 1 1 0 0 0 1 1 0 0 0 1 1 0 0 0]\n",
      "Tasa error laplace 0.0\n",
      "[1 1 0 0 0 1 1 0 0 0 1 1 0 0 0 1 1 0 0 0]\n"
     ]
    }
   ],
   "source": [
    "# Clases verdaderas\n",
    "print(dataset[:,-1])\n",
    "\n",
    "# Naive Bayes\n",
    "clasificador = ClasificadorNaiveBayes(laplace=False)\n",
    "clasificador.entrenamiento(dataset)\n",
    "pred = clasificador.clasifica(dataset)\n",
    "\n",
    "print(\"Tasa error\", Clasificador.error(dataset, pred))\n",
    "print(pred)\n",
    "\n",
    "# Naive Bayes con correcion de Laplace\n",
    "clasificador_laplace = ClasificadorNaiveBayes(laplace=True)\n",
    "clasificador_laplace.entrenamiento(dataset)\n",
    "pred = clasificador_laplace.clasifica(dataset)\n",
    "\n",
    "print(\"Tasa error laplace\", Clasificador.error(dataset, pred))\n",
    "print(pred)"
   ]
  },
  {
   "cell_type": "markdown",
   "metadata": {},
   "source": [
    "A continuación veremos las tablas de probabilidad a posteriori del clasificador, observamos que la correción de laplace suaviza las probabilidades en los casos que se encuentran 0's, pasando de ser 0-1 a ser 0.1-0.9.\n",
    "\n",
    "El elemento $(i,j)$ de la tabla $k$ corresponde a $P(C_i | \\, x^{(k)}=j)$\n",
    "\n",
    "Tabla de probabilidades a posteriori sin Laplace:"
   ]
  },
  {
   "cell_type": "code",
   "execution_count": 16,
   "metadata": {},
   "outputs": [
    {
     "name": "stdout",
     "output_type": "stream",
     "text": [
      "[array([[ 0.5,  0.5],\n",
      "       [ 0.5,  0.5]])\n",
      " array([[ 0.5,  0.5],\n",
      "       [ 0.5,  0.5]])\n",
      " array([[ 0.66666667,  0.33333333],\n",
      "       [ 0.        ,  1.        ]])\n",
      " array([[ 0.33333333,  0.66666667],\n",
      "       [ 1.        ,  0.        ]])]\n"
     ]
    }
   ],
   "source": [
    "print(clasificador.posteriori)"
   ]
  },
  {
   "cell_type": "markdown",
   "metadata": {},
   "source": [
    "Tablas probabilidad a posteriori con laplace:"
   ]
  },
  {
   "cell_type": "code",
   "execution_count": 17,
   "metadata": {},
   "outputs": [
    {
     "name": "stdout",
     "output_type": "stream",
     "text": [
      "[array([[ 0.5,  0.5],\n",
      "       [ 0.5,  0.5]])\n",
      " array([[ 0.5,  0.5],\n",
      "       [ 0.5,  0.5]])\n",
      " array([[ 0.64285714,  0.35714286],\n",
      "       [ 0.1       ,  0.9       ]])\n",
      " array([[ 0.35714286,  0.64285714],\n",
      "       [ 0.9       ,  0.1       ]])]\n"
     ]
    }
   ],
   "source": [
    "print(clasificador_laplace.posteriori)"
   ]
  },
  {
   "cell_type": "markdown",
   "metadata": {},
   "source": [
    "A continuación lo probaremos sobre el conjunto ***tic-tac-toe*** con validación cruzada en 100 bloques con y sin laplace.\n",
    "Ploteamos también un histograma con las tasas de errores para cada una de las 100 particiones, para hacernos una idea de como varia el error, y lo comparamos con una distribución normal."
   ]
  },
  {
   "cell_type": "code",
   "execution_count": 28,
   "metadata": {},
   "outputs": [
    {
     "name": "stdout",
     "output_type": "stream",
     "text": [
      "Media de errores 0.29625, Desviacion Tipica 0.15477301928953896\n"
     ]
    },
    {
     "data": {
      "image/png": "[encoded data removed]",
      "text/plain": [
       "<matplotlib.figure.Figure at 0x7f0489db0780>"
      ]
     },
     "metadata": {},
     "output_type": "display_data"
    }
   ],
   "source": [
    "n = 100\n",
    "# Sin Laplace clasificador Naive-Bayes\n",
    "bayes = ClasificadorNaiveBayes()\n",
    "estrategia = ValidacionCruzada(n)\n",
    "\n",
    "errores = Clasificador.validacion(estrategia, dataset_tic_tac_toe, bayes)\n",
    "\n",
    "mean = np.mean(errores)\n",
    "sd = np.std(errores)\n",
    "\n",
    "plt.hist(errores, density=True)\n",
    "\n",
    "x = np.linspace(*plt.xlim(), 100)\n",
    "plt.plot(x, norm.pdf(x,mean, sd))\n",
    "\n",
    "print(\"Media de errores {}, Desviacion Tipica {}\".format(mean, sd))\n",
    "\n",
    "plt.show()"
   ]
  },
  {
   "cell_type": "code",
   "execution_count": 29,
   "metadata": {},
   "outputs": [
    {
     "name": "stdout",
     "output_type": "stream",
     "text": [
      "Media de errores 0.3125, Desviacion Tipica 0.1681703005884214\n"
     ]
    },
    {
     "data": {
      "image/png": "[encoded data removed]",
      "text/plain": [
       "<matplotlib.figure.Figure at 0x7f0489e02780>"
      ]
     },
     "metadata": {},
     "output_type": "display_data"
    }
   ],
   "source": [
    "n = 100\n",
    "# Con Laplace clasificador Naive-Bayes\n",
    "bayes = ClasificadorNaiveBayes(True)\n",
    "estrategia = ValidacionCruzada(n)\n",
    "\n",
    "errores = Clasificador.validacion(estrategia, dataset_tic_tac_toe, bayes)\n",
    "\n",
    "mean = np.mean(errores)\n",
    "sd = np.std(errores)\n",
    "\n",
    "plt.hist(errores, density=True)\n",
    "\n",
    "plt.plot(x, norm.pdf(x,mean, sd))\n",
    "\n",
    "print(\"Media de errores {}, Desviacion Tipica {}\".format(mean, sd))\n",
    "\n",
    "plt.show()"
   ]
  },
  {
   "cell_type": "markdown",
   "metadata": {},
   "source": [
    "A continuación procedemos a probar Naive Bayes con el conjunto de datos ***german*** y como estrategia de partición utilizaremos una validación Bootstrap con 10 particiones."
   ]
  },
  {
   "cell_type": "code",
   "execution_count": 31,
   "metadata": {},
   "outputs": [
    {
     "data": {
      "image/png": "[encoded data removed]",
      "text/plain": [
       "<matplotlib.figure.Figure at 0x7f0489b45f98>"
      ]
     },
     "metadata": {},
     "output_type": "display_data"
    },
    {
     "name": "stdout",
     "output_type": "stream",
     "text": [
      "Media de errores 0.24691896053152282, Desviacion Tipica 0.01916263619902427\n"
     ]
    }
   ],
   "source": [
    "dataset_german = Datos(\"../ConjuntosDatos/german.data\")\n",
    "\n",
    "n = 10\n",
    "\n",
    "# Sin Laplace clasificador Naive-Bayes\n",
    "bayes = ClasificadorNaiveBayes()\n",
    "estrategia = ValidacionBootstrap(n)\n",
    "\n",
    "errores = Clasificador.validacion(estrategia, dataset_german, bayes)\n",
    "\n",
    "mean = np.mean(errores)\n",
    "sd = np.std(errores)\n",
    "\n",
    "plt.hist(errores, density=True)\n",
    "plt.show()\n",
    "\n",
    "print(\"Media de errores {}, Desviacion Tipica {}\".format(mean, sd))"
   ]
  },
  {
   "cell_type": "code",
   "execution_count": 32,
   "metadata": {},
   "outputs": [
    {
     "name": "stdout",
     "output_type": "stream",
     "text": [
      "Media de errores 0.25793591546535344, Desviacion Tipica 0.012528508999578983\n"
     ]
    },
    {
     "data": {
      "image/png": "[encoded data removed]",
      "text/plain": [
       "<matplotlib.figure.Figure at 0x7f0489b45278>"
      ]
     },
     "metadata": {},
     "output_type": "display_data"
    }
   ],
   "source": [
    "n = 10\n",
    "\n",
    "# Con Laplace clasificador Naive-Bayes\n",
    "bayes = ClasificadorNaiveBayes(laplace=True)\n",
    "estrategia = ValidacionBootstrap(n)\n",
    "\n",
    "errores = Clasificador.validacion(estrategia, dataset_german, bayes)\n",
    "\n",
    "mean = np.mean(errores)\n",
    "sd = np.std(errores)\n",
    "\n",
    "plt.hist(errores, density=True)\n",
    "\n",
    "print(\"Media de errores {}, Desviacion Tipica {}\".format(mean, sd))\n",
    "\n",
    "plt.show()"
   ]
  },
  {
   "cell_type": "markdown",
   "metadata": {},
   "source": [
    "## Apartado 3 - ScikitLearn\n",
    "------\n",
    "En primer lugar crearemos las estrategias de particionado utilizando las funciones implementadas en scikitlearn.\n",
    "Hemos creado dos funciones para facilitar la llamada utilizando nuestra estructura de datos."
   ]
  },
  {
   "cell_type": "code",
   "execution_count": 40,
   "metadata": {
    "collapsed": true
   },
   "outputs": [],
   "source": [
    "def ValidacionSimpleScikit(datos, porcentaje=.75):\n",
    "    r\"\"\"Devuelve una particion simple con los metodos de sklearn\n",
    "    \n",
    "    XTrain, XTest, YTrain, YTest\n",
    "    \"\"\"\n",
    "    # Matriz con atributos \n",
    "    X = dataset.datos[:,:-1]\n",
    "    # Array con clases (ya codificadas)\n",
    "    y = dataset.datos[:,-1] \n",
    "    \n",
    "    return train_test_split(X, y, train_size = porcentaje, test_size = 1 - porcentaje, shuffle=True)"
   ]
  },
  {
   "cell_type": "markdown",
   "metadata": {},
   "source": [
    "Probaremos a hacer una partición simple del dataset balloons con un 80% de los datos para entrenamiento."
   ]
  },
  {
   "cell_type": "code",
   "execution_count": 41,
   "metadata": {},
   "outputs": [
    {
     "name": "stdout",
     "output_type": "stream",
     "text": [
      "Datos entrenamiento\n",
      " [[0 1 1 1]\n",
      " [1 1 0 0]\n",
      " [0 1 1 0]\n",
      " [1 0 0 1]\n",
      " [0 1 0 1]\n",
      " [1 0 1 1]\n",
      " [1 1 1 0]\n",
      " [0 0 0 0]\n",
      " [0 1 0 0]\n",
      " [1 1 0 1]\n",
      " [0 1 1 0]\n",
      " [1 0 1 0]\n",
      " [1 1 1 1]\n",
      " [1 1 1 0]\n",
      " [0 0 1 0]]\n",
      "Datos test\n",
      " [[0 0 1 1]\n",
      " [1 0 1 0]\n",
      " [0 0 0 1]\n",
      " [0 0 1 0]\n",
      " [1 0 0 0]]\n"
     ]
    }
   ],
   "source": [
    "#Primero encriptamos los atributos\n",
    "\n",
    "XTrain, XTest, YTrain, YTest = ValidacionSimpleScikit(dataset, porcentaje=.75)\n",
    "\n",
    "print(\"Datos entrenamiento\\n\", XTrain)\n",
    "print(\"Datos test\\n\", XTest)"
   ]
  },
  {
   "cell_type": "markdown",
   "metadata": {},
   "source": [
    "Estrategia de Validación Cruzada con la función `KFold` de sklearn."
   ]
  },
  {
   "cell_type": "code",
   "execution_count": 52,
   "metadata": {},
   "outputs": [],
   "source": [
    "def ValidacionCruzadaScikit(datos, k=1):\n",
    "    \"\"\"Crea particiones segun el metodo tradicional \n",
    "    de division de los datos segun el porcentaje deseado.\"\"\"\n",
    "\n",
    "    X = datos[:, :-1]\n",
    "    Y = dataset.datos[:, -1]\n",
    "        \n",
    "    particiones = []\n",
    "\n",
    "    # Creamos particiones\n",
    "    kf = KFold(n_splits=k, shuffle=True)\n",
    "    i=1\n",
    "        \n",
    "    for train, test in kf.split(X, Y):\n",
    "        particiones.append(Particion(train, test,i))\n",
    "        i += 1\n",
    "\n",
    "    return particiones"
   ]
  },
  {
   "cell_type": "markdown",
   "metadata": {},
   "source": [
    "***Ejemplo***\n",
    "\n",
    "Probamos la validacion cruzada de scikit con el dataset balloons."
   ]
  },
  {
   "cell_type": "code",
   "execution_count": 55,
   "metadata": {},
   "outputs": [
    {
     "name": "stdout",
     "output_type": "stream",
     "text": [
      "Particion 1:\n",
      "Train: [ 0  1  2  4  5  6  7  8 10 11 12 13 14 15 16]\n",
      "Test:  [ 3  9 17 18 19]\n",
      "Particion 2:\n",
      "Train: [ 0  1  2  3  5  6  7  8  9 14 15 16 17 18 19]\n",
      "Test:  [ 4 10 11 12 13]\n",
      "Particion 3:\n",
      "Train: [ 0  3  4  5  7  9 10 11 12 13 14 15 17 18 19]\n",
      "Test:  [ 1  2  6  8 16]\n",
      "Particion 4:\n",
      "Train: [ 1  2  3  4  6  8  9 10 11 12 13 16 17 18 19]\n",
      "Test:  [ 0  5  7 14 15]\n"
     ]
    }
   ],
   "source": [
    "particiones = ValidacionCruzadaScikit(dataset, 4)\n",
    "\n",
    "for particion in particiones:\n",
    "    print(particion)"
   ]
  },
  {
   "cell_type": "markdown",
   "metadata": {},
   "source": [
    "Creamos clasificador Bayes usando las funciones de sklearn."
   ]
  },
  {
   "cell_type": "code",
   "execution_count": 93,
   "metadata": {
    "collapsed": true
   },
   "outputs": [],
   "source": [
    "class ScikitNaiveBayes(Clasificador):\n",
    "    \n",
    "    def __init__(self):\n",
    "        super().__init__()\n",
    "        self.NB = nb.MultinomialNB(alpha=1.0, fit_prior=True, class_prior=None)\n",
    "    \n",
    "    def entrenamiento_v2(self, xtrain, ytrain):\n",
    "        \n",
    "        # Calculamos NaiveBayes\n",
    "        self.NB.fit(xtrain, ytrain)\n",
    "    \n",
    "    def entrenamiento(self, datos, indices):\n",
    "\n",
    "        # Calculamos NaiveBayes\n",
    "        self.NB.fit(datos[indices][:,:-1], datos[indices][:,-1])\n",
    "        \n",
    "    def clasifica_v2(self, xtest):\n",
    "        \n",
    "        return self.NB.predict(xtest)   \n",
    "\n",
    "    def clasifica(self, datos, indices):\n",
    "        \n",
    "        return self.NB.predict(datos[indices][:,:-1])"
   ]
  },
  {
   "cell_type": "markdown",
   "metadata": {},
   "source": [
    "Probaremos el clasificador sobre el conjunto Balloons para ver si está implementado correctamente."
   ]
  },
  {
   "cell_type": "code",
   "execution_count": 94,
   "metadata": {},
   "outputs": [
    {
     "name": "stdout",
     "output_type": "stream",
     "text": [
      "Valores predecidos [1 0 0 0 0 1 1 1 0 0 0 1]\n",
      "Valores reales [1 0 0 0 0 1 1 1 0 0 0 1]\n"
     ]
    }
   ],
   "source": [
    "xtrain, xtest, ytrain, ytest = ValidacionSimpleScikit(dataset,.6)\n",
    "\n",
    "clasificador = ScikitNaiveBayes()\n",
    "clasificador.entrenamiento_v2(xtrain, ytrain)\n",
    "\n",
    "\n",
    "pred = clasificador.clasifica_v2(xtrain)\n",
    "\n",
    "print(\"Valores predecidos\", pred)\n",
    "print(\"Valores reales\", ytrain)"
   ]
  },
  {
   "cell_type": "markdown",
   "metadata": {},
   "source": [
    "Realizaremos validación cruzada con nuestro clasificador bayes en el conjunto Tic-Tac-Toe"
   ]
  },
  {
   "cell_type": "code",
   "execution_count": 102,
   "metadata": {},
   "outputs": [
    {
     "data": {
      "image/png": "[encoded data removed]",
      "text/plain": [
       "<matplotlib.figure.Figure at 0x7f0489cc7c88>"
      ]
     },
     "metadata": {},
     "output_type": "display_data"
    },
    {
     "name": "stdout",
     "output_type": "stream",
     "text": [
      "Media 0.340767676768 Desviacion 0.0307241844921\n"
     ]
    }
   ],
   "source": [
    "clasificador = ScikitNaiveBayes()\n",
    "\n",
    "X = dataset_tic_tac_toe[:,:-1]\n",
    "y = dataset_tic_tac_toe[:,-1]\n",
    "k = 100\n",
    "\n",
    "errores = 1 - cross_val_score(clasificador.NB, X,y, cv=k)\n",
    "\n",
    "plt.hist(errores, density=True)\n",
    "plt.show()\n",
    "\n",
    "print(\"Media\", np.mean(errores), \"Desviacion\", np.std(errores))"
   ]
  },
  {
   "cell_type": "markdown",
   "metadata": {},
   "source": [
    "Cuando realizamos la validación cruzada para nuestro clasificador, en el conjunto tic-tac-toe obtuvimos una tasa de error media de aproximadamente 0.3 (Apartado 2), por lo que los resultados son consistentes con la implementación de Sklearn.\n",
    "\n",
    "Como sklearn no tiene implementado un clasificador que maneje datos discretos y continuos simultáneamente de forma directa, calcularemos las probabilidades de las clases de forma separada y la multiplicaremos utilizando que hemos supuesto independencia."
   ]
  },
  {
   "cell_type": "code",
   "execution_count": 140,
   "metadata": {},
   "outputs": [],
   "source": [
    "\n",
    "nominales = dataset_german.nominalAtributos\n",
    "no_nominales = [not v for v in nominales]\n",
    "\n",
    "# Separamos los datos por continuos y discretos\n",
    "discretos = dataset_german[:,nominales][:,:-1]\n",
    "continuos = dataset_german[:,no_nominales]\n",
    "clases = dataset_german[:,-1]\n",
    "\n",
    "# Entrenamos modelo discreto\n",
    "clasificador_discreto = nb.MultinomialNB(alpha=1.0, fit_prior=True, class_prior=None)\n",
    "np.random.seed(1)\n",
    "probabilidades_discretas = cross_val_predict(clasificador_discreto,discretos, clases, cv=2, method='predict_proba')\n",
    "\n",
    "# Entrenamos modelo continuo\n",
    "clf = GaussianNB()\n",
    "clf.fit(continuos,clases)\n",
    "\n",
    "np.random.seed(1)\n",
    "probabilidades_continuos = cross_val_predict(clf,continuos, clases, cv=2, method='predict_proba')\n",
    "\n",
    "producto = np.multiply(probabilidades_discretas,probabilidades_continuos)\n",
    "# Normalizamos probabilidades para que sumen 1\n",
    "\n",
    "for i in range(len(producto)):\n",
    "    producto[i] /= np.sum(producto[i])\n",
    "    \n",
    "pred = np.argmax(producto, axis=1)"
   ]
  },
  {
   "cell_type": "markdown",
   "metadata": {},
   "source": [
    "Asi hemos conseguido predecir con atributos mixtos la clase correspondiente.\n",
    "\n",
    "El array de probabilidades será:"
   ]
  },
  {
   "cell_type": "code",
   "execution_count": 141,
   "metadata": {},
   "outputs": [
    {
     "name": "stdout",
     "output_type": "stream",
     "text": [
      "[[ 0.99473521  0.00526479]\n",
      " [ 0.32938559  0.67061441]\n",
      " [ 0.97714949  0.02285051]\n",
      " ..., \n",
      " [ 0.95253557  0.04746443]\n",
      " [ 0.15370371  0.84629629]\n",
      " [ 0.59518023  0.40481977]]\n"
     ]
    }
   ],
   "source": [
    "print(producto)"
   ]
  },
  {
   "cell_type": "markdown",
   "metadata": {},
   "source": [
    "El array con las predicciones"
   ]
  },
  {
   "cell_type": "code",
   "execution_count": 150,
   "metadata": {},
   "outputs": [
    {
     "name": "stdout",
     "output_type": "stream",
     "text": [
      "[1 0 1 0 0 0 1 0 0 0 1 0 0 0 0 0 0 1 0]\n"
     ]
    }
   ],
   "source": [
    "print(pred[1:20])  # lo truncamos para no saturar el output"
   ]
  },
  {
   "cell_type": "code",
   "execution_count": 148,
   "metadata": {},
   "outputs": [
    {
     "name": "stdout",
     "output_type": "stream",
     "text": [
      "0.27\n"
     ]
    }
   ],
   "source": [
    "# Tasa de error\n",
    "error = 1 - np.sum(np.equal(pred, clases)) / len(pred)\n",
    "\n",
    "print(error)"
   ]
  },
  {
   "cell_type": "markdown",
   "metadata": {},
   "source": [
    "Hemos obtenido una tasa de error de 0.27, lo cual concuerda con los resultados obtenidos en el apartado 2."
   ]
  },
  {
   "cell_type": "markdown",
   "metadata": {},
   "source": [
    "## Apartado 4 - Curvas Roc\n",
    "\n",
    "Crearemos una funcion para plotear la curva roc de un clasificador binario y calcular su area bajo la curva, además de las correspondientes matrices de confusión."
   ]
  },
  {
   "cell_type": "code",
   "execution_count": 34,
   "metadata": {
    "collapsed": true
   },
   "outputs": [],
   "source": [
    "def matriz_confusion(clasificador, datos):\n",
    "    \n",
    "    r\"\"\"Genera matriz de confusion\"\"\"\n",
    "    \n",
    "    matriz = np.zeros((clasificador.nClases,clasificador.nClases))\n",
    "    \n",
    "    pred = clasificador.clasifica(datos)\n",
    "    clases = datos[:,-1]\n",
    "    \n",
    "    for i in range(clasificador.nClases):\n",
    "        clasei = clases == i\n",
    "        \n",
    "        for j in range(clasificador.nClases):\n",
    "            matriz[j,i] = sum(pred[clasei] == j)\n",
    "            \n",
    "    return matriz    "
   ]
  },
  {
   "cell_type": "code",
   "execution_count": 36,
   "metadata": {
    "collapsed": true
   },
   "outputs": [],
   "source": [
    "def curva_roc(clasificador, datos, ax=None):\n",
    "    r\"\"\"Genera una curva ROC\n",
    "    \n",
    "        Args:\n",
    "            clasificador(Clasificador): Clasificador ya entrenado\n",
    "            datos (Datos): Dataset con los datos cargados\n",
    "            ax: matplotlib axis to plot\n",
    "        Returns:\n",
    "            Devuelve el area bajo la curva\n",
    "    \"\"\"\n",
    "    \n",
    "    \n",
    "    clases = datos[:,-1]\n",
    "    \n",
    "    probabilidades = np.empty(datos.nDatos)\n",
    "    \n",
    "    for i, dato in enumerate(datos):\n",
    "        probabilidades[i] = clasificador.probabilidadClase(dato)[1]\n",
    "    \n",
    "    # Ordenamos los indices y clases de acuerdo a la probabilidad de pertenecer a la clase\n",
    "    indices = np.argsort(probabilidades)\n",
    "    \n",
    "    clases = clases[indices]\n",
    "    \n",
    "    x = 0\n",
    "    y = 0\n",
    "    \n",
    "    dy = 1. / sum(clases == 0)\n",
    "    dx = 1. / sum(clases == 1)\n",
    "    \n",
    "    puntos_x = np.zeros(len(clases)+1)\n",
    "    puntos_y = np.zeros(len(clases)+1)\n",
    "    area = 0\n",
    "    \n",
    "    for i, c in enumerate(clases):\n",
    "        if c == 0:\n",
    "            y += dy\n",
    "        else:\n",
    "            x += dx\n",
    "            area += y*dx \n",
    "        puntos_x[i+1] = x\n",
    "        puntos_y[i+1] = y\n",
    "        \n",
    "        \n",
    "    if ax is None:\n",
    "        ax = plt.gca()\n",
    "        \n",
    "    ax.plot(puntos_x, puntos_y)\n",
    "    \n",
    "    return area"
   ]
  },
  {
   "cell_type": "markdown",
   "metadata": {},
   "source": [
    "***Curva Roc balloons***\n",
    "\n",
    "Al realizar la curva roc obtenemos como era de esperar la curva de un clasificador perfecto, el cual posee un AUC = 1 y con una matriz de confusión diagonal."
   ]
  },
  {
   "cell_type": "code",
   "execution_count": 37,
   "metadata": {},
   "outputs": [
    {
     "name": "stdout",
     "output_type": "stream",
     "text": [
      "AUC 1.0\n"
     ]
    },
    {
     "data": {
      "image/png": "[encoded data removed]",
      "text/plain": [
       "<matplotlib.figure.Figure at 0x7f0489e28160>"
      ]
     },
     "metadata": {},
     "output_type": "display_data"
    },
    {
     "name": "stdout",
     "output_type": "stream",
     "text": [
      "[[ 12.   0.]\n",
      " [  0.   8.]]\n"
     ]
    }
   ],
   "source": [
    "bayes = ClasificadorNaiveBayes()\n",
    "x = np.linspace(0,1,100)\n",
    "\n",
    "bayes.entrenamiento(dataset)\n",
    "\n",
    "area = curva_roc(bayes, dataset)\n",
    "print(\"AUC\", area)\n",
    "\n",
    "plt.plot(x,x, c='red', linestyle='dashed')\n",
    "plt.show()\n",
    "\n",
    "print(matriz_confusion(bayes, dataset))"
   ]
  },
  {
   "cell_type": "markdown",
   "metadata": {},
   "source": [
    "***Curva Roc German***\n",
    "\n",
    "Obtenemos una $AUC \\simeq 0.81$, en la matriz de confusión podemos observar un total de 609 verdaderos positivos y 163 verdaderos negativos de un total de 1000 ejemplos."
   ]
  },
  {
   "cell_type": "code",
   "execution_count": 38,
   "metadata": {},
   "outputs": [
    {
     "name": "stdout",
     "output_type": "stream",
     "text": [
      "AUC 0.810366666667\n"
     ]
    },
    {
     "data": {
      "image/png": "[encoded data removed]",
      "text/plain": [
       "<matplotlib.figure.Figure at 0x7f0489b6ac18>"
      ]
     },
     "metadata": {},
     "output_type": "display_data"
    },
    {
     "name": "stdout",
     "output_type": "stream",
     "text": [
      "[[ 609.  137.]\n",
      " [  91.  163.]]\n"
     ]
    }
   ],
   "source": [
    "bayes.entrenamiento(dataset_german)\n",
    "\n",
    "area = curva_roc(bayes, dataset_german)\n",
    "print(\"AUC\", area)\n",
    "\n",
    "plt.plot(x,x, c='red', linestyle='dashed')\n",
    "plt.show()\n",
    "\n",
    "print(matriz_confusion(bayes, dataset_german))"
   ]
  },
  {
   "cell_type": "markdown",
   "metadata": {},
   "source": [
    "***Curva ROC Tic Tac Toe***\n",
    "\n",
    "Obtenemos una  AUC≃0.77, en la matriz de confusión podemos observar un total de 148 verdaderos positivos y 521 verdaderos negativos de un total de 958 ejemplos."
   ]
  },
  {
   "cell_type": "code",
   "execution_count": 151,
   "metadata": {},
   "outputs": [
    {
     "name": "stdout",
     "output_type": "stream",
     "text": [
      "AUC 0.768596751222\n"
     ]
    },
    {
     "data": {
      "image/png": "[encoded data removed]",
      "text/plain": [
       "<matplotlib.figure.Figure at 0x7f0489a5fba8>"
      ]
     },
     "metadata": {},
     "output_type": "display_data"
    },
    {
     "name": "stdout",
     "output_type": "stream",
     "text": [
      "[[ 148.  105.]\n",
      " [ 184.  521.]]\n"
     ]
    }
   ],
   "source": [
    "bayes.entrenamiento(dataset_tic_tac_toe)\n",
    "area = curva_roc(bayes, dataset_tic_tac_toe)\n",
    "print(\"AUC\", area)\n",
    "plt.plot(x,x, c='red', linestyle='dashed')\n",
    "plt.show()\n",
    "\n",
    "print(matriz_confusion(bayes, dataset_tic_tac_toe))"
   ]
  }
 ],
 "metadata": {
  "kernelspec": {
   "display_name": "Python 3",
   "language": "python",
   "name": "python3"
  },
  "language_info": {
   "codemirror_mode": {
    "name": "ipython",
    "version": 3
   },
   "file_extension": ".py",
   "mimetype": "text/x-python",
   "name": "python",
   "nbconvert_exporter": "python",
   "pygments_lexer": "ipython3",
   "version": "3.6.3"
  }
 },
 "nbformat": 4,
 "nbformat_minor": 2
}
